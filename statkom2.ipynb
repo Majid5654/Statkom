{
 "cells": [
  {
   "cell_type": "code",
   "execution_count": 3,
   "id": "fa4625a4-f459-4d0e-850d-c0169da44ff4",
   "metadata": {},
   "outputs": [],
   "source": [
    "import pandas as pd"
   ]
  },
  {
   "cell_type": "code",
   "execution_count": 5,
   "id": "237ad73d-2208-48dc-8688-ca719f40ccb6",
   "metadata": {},
   "outputs": [],
   "source": [
    "import numpy as np"
   ]
  },
  {
   "cell_type": "code",
   "execution_count": 7,
   "id": "73a2b65a-d325-4488-99e1-934c882ab047",
   "metadata": {},
   "outputs": [],
   "source": [
    "from matplotlib import pyplot as plt"
   ]
  },
  {
   "cell_type": "code",
   "execution_count": 9,
   "id": "434d83d6-ce46-4bbd-a9bd-3006e642b659",
   "metadata": {},
   "outputs": [],
   "source": [
    "import seaborn as sns"
   ]
  },
  {
   "cell_type": "code",
   "execution_count": 11,
   "id": "a0e1ea11-e79f-44ce-acd7-2dfa272dde56",
   "metadata": {},
   "outputs": [],
   "source": [
    "from scipy.stats import norm"
   ]
  },
  {
   "cell_type": "code",
   "execution_count": 15,
   "id": "5866887c-fdd7-42af-8373-1c6116ff71c8",
   "metadata": {
    "scrolled": true
   },
   "outputs": [],
   "source": [
    "df = pd.read_csv(\"statkom2/Titanic-Dataset.csv\")"
   ]
  },
  {
   "cell_type": "code",
   "execution_count": 35,
   "id": "d4cb5768-7263-4e8a-ae90-4fc0aabfbfa0",
   "metadata": {},
   "outputs": [
    {
     "name": "stdout",
     "output_type": "stream",
     "text": [
      "   PassengerId  Survived  Pclass  \\\n",
      "0            1         0       3   \n",
      "1            2         1       1   \n",
      "2            3         1       3   \n",
      "3            4         1       1   \n",
      "4            5         0       3   \n",
      "5            6         0       3   \n",
      "6            7         0       1   \n",
      "7            8         0       3   \n",
      "8            9         1       3   \n",
      "9           10         1       2   \n",
      "\n",
      "                                                Name     Sex   Age  SibSp  \\\n",
      "0                            Braund, Mr. Owen Harris    male  22.0      1   \n",
      "1  Cumings, Mrs. John Bradley (Florence Briggs Th...  female  38.0      1   \n",
      "2                             Heikkinen, Miss. Laina  female  26.0      0   \n",
      "3       Futrelle, Mrs. Jacques Heath (Lily May Peel)  female  35.0      1   \n",
      "4                           Allen, Mr. William Henry    male  35.0      0   \n",
      "5                                   Moran, Mr. James    male   NaN      0   \n",
      "6                            McCarthy, Mr. Timothy J    male  54.0      0   \n",
      "7                     Palsson, Master. Gosta Leonard    male   2.0      3   \n",
      "8  Johnson, Mrs. Oscar W (Elisabeth Vilhelmina Berg)  female  27.0      0   \n",
      "9                Nasser, Mrs. Nicholas (Adele Achem)  female  14.0      1   \n",
      "\n",
      "   Parch            Ticket     Fare Cabin Embarked  \n",
      "0      0         A/5 21171   7.2500   NaN        S  \n",
      "1      0          PC 17599  71.2833   C85        C  \n",
      "2      0  STON/O2. 3101282   7.9250   NaN        S  \n",
      "3      0            113803  53.1000  C123        S  \n",
      "4      0            373450   8.0500   NaN        S  \n",
      "5      0            330877   8.4583   NaN        Q  \n",
      "6      0             17463  51.8625   E46        S  \n",
      "7      1            349909  21.0750   NaN        S  \n",
      "8      2            347742  11.1333   NaN        S  \n",
      "9      0            237736  30.0708   NaN        C  \n"
     ]
    }
   ],
   "source": [
    "print(df.head(10))"
   ]
  },
  {
   "cell_type": "code",
   "execution_count": 37,
   "id": "23db4c25-d33b-4e0b-9725-093ae9310991",
   "metadata": {},
   "outputs": [
    {
     "name": "stdout",
     "output_type": "stream",
     "text": [
      "Age     177\n",
      "Fare      0\n",
      "dtype: int64\n"
     ]
    }
   ],
   "source": [
    "print(df[['Age', 'Fare']].isnull().sum())"
   ]
  },
  {
   "cell_type": "code",
   "execution_count": 39,
   "id": "b817adc8-5d27-400b-9720-2d90f0430bee",
   "metadata": {},
   "outputs": [
    {
     "name": "stdout",
     "output_type": "stream",
     "text": [
      "Jumlah missing values di 'Age': 177\n"
     ]
    }
   ],
   "source": [
    "missing_age = df['Age'].isnull().sum()\n",
    "print(f\"Jumlah missing values di 'Age': {missing_age}\")\n"
   ]
  },
  {
   "cell_type": "code",
   "execution_count": 48,
   "id": "2fca0341-2a90-4913-83e2-11f1c778eb67",
   "metadata": {},
   "outputs": [
    {
     "name": "stdout",
     "output_type": "stream",
     "text": [
      "     PassengerId  Survived  Pclass                                      Name  \\\n",
      "5              6         0       3                          Moran, Mr. James   \n",
      "17            18         1       2              Williams, Mr. Charles Eugene   \n",
      "19            20         1       3                   Masselmani, Mrs. Fatima   \n",
      "26            27         0       3                   Emir, Mr. Farred Chehab   \n",
      "28            29         1       3             O'Dwyer, Miss. Ellen \"Nellie\"   \n",
      "..           ...       ...     ...                                       ...   \n",
      "859          860         0       3                          Razi, Mr. Raihed   \n",
      "863          864         0       3         Sage, Miss. Dorothy Edith \"Dolly\"   \n",
      "868          869         0       3               van Melkebeke, Mr. Philemon   \n",
      "878          879         0       3                        Laleff, Mr. Kristo   \n",
      "888          889         0       3  Johnston, Miss. Catherine Helen \"Carrie\"   \n",
      "\n",
      "        Sex  Age  SibSp  Parch      Ticket     Fare Cabin Embarked  \n",
      "5      male  NaN      0      0      330877   8.4583   NaN        Q  \n",
      "17     male  NaN      0      0      244373  13.0000   NaN        S  \n",
      "19   female  NaN      0      0        2649   7.2250   NaN        C  \n",
      "26     male  NaN      0      0        2631   7.2250   NaN        C  \n",
      "28   female  NaN      0      0      330959   7.8792   NaN        Q  \n",
      "..      ...  ...    ...    ...         ...      ...   ...      ...  \n",
      "859    male  NaN      0      0        2629   7.2292   NaN        C  \n",
      "863  female  NaN      8      2    CA. 2343  69.5500   NaN        S  \n",
      "868    male  NaN      0      0      345777   9.5000   NaN        S  \n",
      "878    male  NaN      0      0      349217   7.8958   NaN        S  \n",
      "888  female  NaN      1      2  W./C. 6607  23.4500   NaN        S  \n",
      "\n",
      "[177 rows x 12 columns]\n"
     ]
    }
   ],
   "source": [
    "missing_data = df[df[['Age', 'Fare']].isnull().any(axis=1)]\n",
    "print(missing_data)\n"
   ]
  },
  {
   "cell_type": "code",
   "execution_count": 45,
   "id": "dd99f186-9f0a-4e88-9168-d43542d74682",
   "metadata": {},
   "outputs": [
    {
     "data": {
      "image/png": "[encoded data removed]",
      "text/plain": [
       "<Figure size 1200x500 with 2 Axes>"
      ]
     },
     "metadata": {},
     "output_type": "display_data"
    }
   ],
   "source": [
    "fig, axes = plt.subplots(1, 2, figsize=(12, 5)) \n",
    "#\"Age\"\n",
    "sns.histplot(df['Age'].dropna(), bins=30, kde=True, ax=axes[0], color='blue')\n",
    "axes[0].set_title('Distribusi Age')\n",
    "\n",
    "# \"Fare\"\n",
    "sns.histplot(df['Fare'].dropna(), bins=30, kde=True, ax=axes[1], color='green')\n",
    "axes[1].set_title('Distribusi Fare')\n",
    "\n",
    "plt.tight_layout()\n",
    "plt.show()\n"
   ]
  },
  {
   "cell_type": "code",
   "execution_count": 62,
   "id": "d31736ce-6c52-4234-b295-396935706624",
   "metadata": {},
   "outputs": [],
   "source": [
    "df['Age'] = df['Age'].fillna(df['Age'].median())"
   ]
  },
  {
   "cell_type": "code",
   "execution_count": 64,
   "id": "3ff4690f-a474-4c53-ab5e-c77312df8830",
   "metadata": {},
   "outputs": [
    {
     "name": "stdout",
     "output_type": "stream",
     "text": [
      "0\n"
     ]
    }
   ],
   "source": [
    "print(df['Age'].isna().sum())"
   ]
  },
  {
   "cell_type": "code",
   "execution_count": 66,
   "id": "50eee8ec-aea7-49e5-8171-709099587e99",
   "metadata": {},
   "outputs": [
    {
     "name": "stdout",
     "output_type": "stream",
     "text": [
      "Median Age: 29.69911764705882\n"
     ]
    }
   ],
   "source": [
    "median_age = df['Age'].median()\n",
    "print(\"Median Age:\", median_age)"
   ]
  },
  {
   "cell_type": "code",
   "execution_count": 68,
   "id": "1f3ea36c-2d58-44fd-a181-bb1291e049be",
   "metadata": {},
   "outputs": [
    {
     "name": "stdout",
     "output_type": "stream",
     "text": [
      "   PassengerId  Survived  Pclass              Name   Sex        Age  SibSp  \\\n",
      "5            6         0       3  Moran, Mr. James  male  29.699118      0   \n",
      "\n",
      "   Parch  Ticket    Fare Cabin Embarked  \n",
      "5      0  330877  8.4583   NaN        Q  \n"
     ]
    }
   ],
   "source": [
    "print(df[df['Ticket'] == '330877'])\n"
   ]
  },
  {
   "cell_type": "code",
   "execution_count": 72,
   "id": "d876d6c0-1fee-4fdd-8fc8-da1d23209933",
   "metadata": {},
   "outputs": [],
   "source": [
    "df = pd.read_csv(\"statkom2/Titanic-Dataset.csv\")  "
   ]
  },
  {
   "cell_type": "code",
   "execution_count": 74,
   "id": "7ff07de5-3a36-4076-b5e4-cea0d3d063d4",
   "metadata": {},
   "outputs": [
    {
     "name": "stdout",
     "output_type": "stream",
     "text": [
      "Age     177\n",
      "Fare      0\n",
      "dtype: int64\n"
     ]
    }
   ],
   "source": [
    "print(df[['Age', 'Fare']].isnull().sum())"
   ]
  },
  {
   "cell_type": "code",
   "execution_count": 76,
   "id": "fe95d6d9-6a1b-4a5a-91f4-e69115f03da0",
   "metadata": {},
   "outputs": [],
   "source": [
    "df['Age'] = df['Age'].fillna(df['Age'].mean())"
   ]
  },
  {
   "cell_type": "code",
   "execution_count": 78,
   "id": "62191fff-fe65-47d9-b90f-99734e0e535e",
   "metadata": {},
   "outputs": [
    {
     "name": "stdout",
     "output_type": "stream",
     "text": [
      "0\n"
     ]
    }
   ],
   "source": [
    "print(df['Age'].isna().sum())"
   ]
  },
  {
   "cell_type": "code",
   "execution_count": 80,
   "id": "9d6ca036-f3a6-4607-9e99-3f9531b1e201",
   "metadata": {},
   "outputs": [
    {
     "name": "stdout",
     "output_type": "stream",
     "text": [
      "   PassengerId  Survived  Pclass              Name   Sex        Age  SibSp  \\\n",
      "5            6         0       3  Moran, Mr. James  male  29.699118      0   \n",
      "\n",
      "   Parch  Ticket    Fare Cabin Embarked  \n",
      "5      0  330877  8.4583   NaN        Q  \n"
     ]
    }
   ],
   "source": [
    "print(df[df['Ticket'] == '330877'])"
   ]
  },
  {
   "cell_type": "code",
   "execution_count": 84,
   "id": "3446b111-2886-4f13-8ae9-ceda7225c640",
   "metadata": {},
   "outputs": [
    {
     "name": "stdout",
     "output_type": "stream",
     "text": [
      "Mean Age: 29.69911764705882\n",
      "Median Age: 29.69911764705882\n"
     ]
    }
   ],
   "source": [
    "mean_age = df['Age'].mean() \n",
    "median_age = df['Age'].median()\n",
    "print(\"Mean Age:\", mean_age)\n",
    "print(\"Median Age:\", median_age)"
   ]
  },
  {
   "cell_type": "code",
   "execution_count": 86,
   "id": "3cd3115e-71a4-4ac8-889f-8da2fefc752c",
   "metadata": {},
   "outputs": [
    {
     "name": "stdout",
     "output_type": "stream",
     "text": [
      "    Age  Age_Zscore\n",
      "0  22.0   -0.592148\n",
      "1  38.0    0.638430\n",
      "2  26.0   -0.284503\n",
      "3  35.0    0.407697\n",
      "4  35.0    0.407697\n"
     ]
    }
   ],
   "source": [
    "mean_age = df['Age'].mean()\n",
    "std_age = df['Age'].std()\n",
    "\n",
    "# Z-score\n",
    "df['Age_Zscore'] = (df['Age'] - mean_age) / std_age\n",
    "\n",
    "print(df[['Age', 'Age_Zscore']].head())"
   ]
  },
  {
   "cell_type": "code",
   "execution_count": 92,
   "id": "4d0f80a7-a9fc-4bff-81eb-feaf14b970bd",
   "metadata": {},
   "outputs": [
    {
     "name": "stdout",
     "output_type": "stream",
     "text": [
      "Jumlah outlier pada 'Age' dengan Z-score > 3 atau < -3: 7\n",
      "      Age  Age_Zscore\n",
      "96   71.0    3.176499\n",
      "116  70.5    3.138043\n",
      "493  71.0    3.176499\n",
      "630  80.0    3.868699\n",
      "672  70.0    3.099587\n",
      "745  70.0    3.099587\n",
      "851  74.0    3.407232\n"
     ]
    }
   ],
   "source": [
    "outliers = df[(df['Age_Zscore'] > 3) | (df['Age_Zscore'] < -3)]\n",
    "num_outliers = outliers.shape[0] \n",
    "\n",
    "print(f\"Jumlah outlier pada 'Age' dengan Z-score > 3 atau < -3: {num_outliers}\")\n",
    "\n",
    "print(outliers[['Age', 'Age_Zscore']])"
   ]
  },
  {
   "cell_type": "code",
   "execution_count": 94,
   "id": "6492b415-e322-4b0f-86d0-51dda1ea6852",
   "metadata": {},
   "outputs": [
    {
     "name": "stdout",
     "output_type": "stream",
     "text": [
      "Probabilitas Age < 20: 0.2278\n"
     ]
    }
   ],
   "source": [
    "z_20 = (20 - mean_age) / std_age\n",
    "prob_age_less_20 = norm.cdf(z_20)\n",
    "print(f\"Probabilitas Age < 20: {prob_age_less_20:.4f}\")"
   ]
  },
  {
   "cell_type": "code",
   "execution_count": null,
   "id": "8f52ee30-65ae-4a04-8f21-8a131aec00b4",
   "metadata": {},
   "outputs": [],
   "source": []
  }
 ],
 "metadata": {
  "kernelspec": {
   "display_name": "Python 3 (ipykernel)",
   "language": "python",
   "name": "python3"
  },
  "language_info": {
   "codemirror_mode": {
    "name": "ipython",
    "version": 3
   },
   "file_extension": ".py",
   "mimetype": "text/x-python",
   "name": "python",
   "nbconvert_exporter": "python",
   "pygments_lexer": "ipython3",
   "version": "3.12.7"
  }
 },
 "nbformat": 4,
 "nbformat_minor": 5
}
